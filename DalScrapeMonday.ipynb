{
 "cells": [
  {
   "cell_type": "code",
   "execution_count": 34,
   "metadata": {},
   "outputs": [],
   "source": [
    "import bs4\n",
    "import requests\n",
    "import re\n",
    "import json\n",
    "import pprint as pp\n",
    "from csv import writer\n",
    "import time\n",
    "%matplotlib inline\n",
    "%config IPCompleter.greedy=True\n",
    "%config Completer.use_jedi = False"
   ]
  },
  {
   "cell_type": "code",
   "execution_count": 10,
   "metadata": {},
   "outputs": [],
   "source": [
    "url=\"https://www.bilbasen.dk/brugt/bil?IncludeEngrosCVR=true&PriceFrom=0&includeLeasing=false&Fuel=1\"\n",
    "header={\"User-Agent\":\"Mozilla/5.0 (Macintosh; Intel Mac OS X 10_15_7) AppleWebKit/537.36 (KHTML, like Gecko) Chrome/96.0.4664.45 Safari/537.36\"}"
   ]
  },
  {
   "cell_type": "code",
   "execution_count": 11,
   "metadata": {},
   "outputs": [],
   "source": [
    "retval=requests.get(url, headers=header)"
   ]
  },
  {
   "cell_type": "code",
   "execution_count": 12,
   "metadata": {},
   "outputs": [],
   "source": [
    "htmlText=retval.text"
   ]
  },
  {
   "cell_type": "code",
   "execution_count": 13,
   "metadata": {},
   "outputs": [],
   "source": [
    "soup=bs4.BeautifulSoup(htmlText)"
   ]
  },
  {
   "cell_type": "code",
   "execution_count": 14,
   "metadata": {},
   "outputs": [],
   "source": [
    "elements=soup.findAll(\"div\",class_=\"row listing listing-plus bb-listing-clickable\")"
   ]
  },
  {
   "cell_type": "markdown",
   "metadata": {},
   "source": [
    "The region"
   ]
  },
  {
   "cell_type": "code",
   "execution_count": 15,
   "metadata": {},
   "outputs": [],
   "source": [
    "regstuff=elements[1].find(\"div\",class_=\"listing-region\")"
   ]
  },
  {
   "cell_type": "markdown",
   "metadata": {},
   "source": [
    "The description"
   ]
  },
  {
   "cell_type": "code",
   "execution_count": 16,
   "metadata": {},
   "outputs": [],
   "source": [
    "descstuff=elements[1].find(\"div\",class_=\"expandable-box\")"
   ]
  },
  {
   "cell_type": "markdown",
   "metadata": {},
   "source": [
    "The mpg,milage and year"
   ]
  },
  {
   "cell_type": "code",
   "execution_count": 17,
   "metadata": {},
   "outputs": [],
   "source": [
    "ystuff2=elements[1].findAll(\"div\",class_=\"listing-data\")"
   ]
  },
  {
   "cell_type": "markdown",
   "metadata": {},
   "source": [
    "The make and model"
   ]
  },
  {
   "cell_type": "code",
   "execution_count": 192,
   "metadata": {},
   "outputs": [],
   "source": [
    "make=elements[1].findAll(\"a\",class_=\"darkLink\")"
   ]
  },
  {
   "cell_type": "markdown",
   "metadata": {},
   "source": [
    "The car-id"
   ]
  },
  {
   "cell_type": "code",
   "execution_count": 19,
   "metadata": {},
   "outputs": [],
   "source": [
    "res2=elements[1].find_all(\"div\", attrs={\"data-listingid\":True})"
   ]
  },
  {
   "cell_type": "markdown",
   "metadata": {},
   "source": [
    "NOW TIME FOR PYMYSQL"
   ]
  },
  {
   "cell_type": "code",
   "execution_count": 24,
   "metadata": {},
   "outputs": [],
   "source": [
    "import pymysql"
   ]
  },
  {
   "cell_type": "code",
   "execution_count": 25,
   "metadata": {},
   "outputs": [],
   "source": [
    "url=\"3.xxx.xxx.xxx\"\n",
    "user=\"xxx\"\n",
    "passwd=\"xxxxxx\"\n",
    "db=\"bilbasen\"\n",
    "conn=pymysql.connect(host=url,user=user,passwd=passwd,db=db,autocommit=True)"
   ]
  },
  {
   "cell_type": "code",
   "execution_count": null,
   "metadata": {},
   "outputs": [],
   "source": [
    "print(conn.get_host_info())\n",
    "cursor=conn.cursor()"
   ]
  },
  {
   "cell_type": "code",
   "execution_count": null,
   "metadata": {},
   "outputs": [],
   "source": [
    "query=\"select * from carprice2\"\n",
    "cursor.execute(query)"
   ]
  },
  {
   "cell_type": "code",
   "execution_count": 29,
   "metadata": {},
   "outputs": [],
   "source": [
    "resSet=cursor.fetchall();"
   ]
  },
  {
   "cell_type": "code",
   "execution_count": 30,
   "metadata": {},
   "outputs": [],
   "source": [
    "retval=(resSet[0])"
   ]
  },
  {
   "cell_type": "code",
   "execution_count": 37,
   "metadata": {},
   "outputs": [
    {
     "name": "stdout",
     "output_type": "stream",
     "text": [
      "[1, 'Renault', 'Clio IV 0,9 TCe 90 Limited Sport Tourer', 2017, 21.7, 'blue', 113800, datetime.datetime(2021, 11, 21, 18, 24, 57)]\n"
     ]
    }
   ],
   "source": [
    "print(list(retval))"
   ]
  },
  {
   "cell_type": "markdown",
   "metadata": {},
   "source": [
    "NOW TIME TO CRAWL AND SAVE"
   ]
  },
  {
   "cell_type": "markdown",
   "metadata": {},
   "source": [
    "### elements=soup.findAll(\"div\",class_=\"row listing listing-plus bb-listing-clickable\")\n",
    "1. Loop igennem\n",
    " 1. for hvert item find darkLink\n",
    " 2. listing-region\n",
    " 3. listing-price\n",
    " 4. listing-data (pos1.text er kml er pos2 er km,pos3 er year)\n",
    " 5. data-listingid (\"div\", attrs={\"data-listingid\":True})\n"
   ]
  },
  {
   "cell_type": "code",
   "execution_count": null,
   "metadata": {},
   "outputs": [],
   "source": [
    "with open('cars3.csv','w', encoding='utf8',newline='') as f:\n",
    "    thewriter=writer(f)\n",
    "    header=['car_id','make','cartype','kmpl','kmstand','caryear','color','region','price','datetime']\n",
    "    thewriter.writerow(header)\n",
    "    counter=0;\n",
    "    for el in elements:\n",
    "        #make og type\n",
    "        make=el.find(\"a\",class_=\"darkLink\")\n",
    "        makeList=make.text.split()\n",
    "        mmake=makeList[0]\n",
    "        ctype=' '.join(makeList[1:])\n",
    "\n",
    "        #region\n",
    "        reg=el.find(\"div\",class_=\"listing-region\")\n",
    "        rreg=reg.text\n",
    "\n",
    "        #pris\n",
    "        price=el.find(\"div\",class_=\"listing-price\")\n",
    "        nprice=price.text.rstrip(\"kr.\")\n",
    "        rprice=int(nprice.replace(\".\",\"\"))\n",
    "\n",
    "        #kml,km og year\n",
    "        data=el.findAll(\"div\",class_=\"listing-data\")\n",
    "        cyear=data[3].text\n",
    "        km=data[2].text\n",
    "        rkm=km.replace(\".\",\"\")\n",
    "        kml=data[1].text\n",
    "        tkml=re.sub(\"[^0-9,]\",\"\",kml)\n",
    "        if len(tkml) > 0:\n",
    "            rkml=float(tkml.replace(\",\",\".\"))\n",
    "        else:\n",
    "            rkml=0.0\n",
    "\n",
    "        #description\n",
    "        desc=el.findAll(\"div\",class_=\"listing-description\")\n",
    "        rdesc=desc[0].text\n",
    "        desc=\"TODO\"\n",
    "\n",
    "        #id\n",
    "        cid=el.findAll(\"div\", attrs={\"data-listingid\":True})\n",
    "        rcid=cid[0]['data-listingid']\n",
    "        \n",
    "        dataList=[rcid,mmake,ctype,rkml,rkm,cyear,\"none\",rreg,rprice,int(time.time())]\n",
    "        #header=['car_id','make','cartype','kmpl','kmstand','caryear','color','region','price','datetime']\n",
    "        thewriter.writerow(dataList)\n",
    "\n",
    "        \"\"\"\n",
    "        sqlString=\"INSERT INTO car (car_id,make,cartype,kmpl,kmstand,caryear,color,cardescription,region) \\\n",
    "        VALUES(%s,%s,%s,%s,%s,%s,%s,%s,%s)\"\n",
    "        data=(rcid,mmake,ctype,rkml,rkm,cyear,\"none\",desc,rreg)\n",
    "        \"\"\"\n",
    "        sqlString2=\"INSERT INTO price (price,timeofchange,car_id) VALUES(%s,now(),%s)\"\n",
    "        data2=(rprice,rcid)\n",
    "        print(data2)\n",
    "        counter=counter+1\n",
    "        try:\n",
    "            cursor.execute(sqlString2,data2)\n",
    "            pass\n",
    "        except conn.Error as e:\n",
    "            print(e)\n",
    "            print(\"Error at \"+str(counter)+\" Will continue ...\")\n",
    "            continue\n"
   ]
  }
 ],
 "metadata": {
  "kernelspec": {
   "display_name": "Python 3",
   "language": "python",
   "name": "python3"
  },
  "language_info": {
   "codemirror_mode": {
    "name": "ipython",
    "version": 3
   },
   "file_extension": ".py",
   "mimetype": "text/x-python",
   "name": "python",
   "nbconvert_exporter": "python",
   "pygments_lexer": "ipython3",
   "version": "3.7.6"
  }
 },
 "nbformat": 4,
 "nbformat_minor": 4
}
