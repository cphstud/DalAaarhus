{
 "cells": [
  {
   "cell_type": "code",
   "execution_count": 16,
   "id": "0b7c203d",
   "metadata": {},
   "outputs": [],
   "source": [
    "import serial\n",
    "import serial.tools.list_ports as sp\n",
    "import pymongo\n",
    "import time\n",
    "import os"
   ]
  },
  {
   "cell_type": "code",
   "execution_count": 17,
   "id": "75c2847a",
   "metadata": {},
   "outputs": [
    {
     "name": "stdout",
     "output_type": "stream",
     "text": [
      "COM5\n"
     ]
    },
    {
     "data": {
      "text/plain": [
       "[None]"
      ]
     },
     "execution_count": 17,
     "metadata": {},
     "output_type": "execute_result"
    }
   ],
   "source": [
    "ports=sp.comports()\n",
    "[print(port.device) for port in ports]"
   ]
  },
  {
   "cell_type": "code",
   "execution_count": 18,
   "id": "d79ffbb9",
   "metadata": {},
   "outputs": [],
   "source": [
    "serial_speed=9600\n",
    "serial_port=ports[0].name\n",
    "ser=serial.Serial(serial_port,serial_speed,timeout=1)"
   ]
  },
  {
   "cell_type": "code",
   "execution_count": 91,
   "id": "3a96e5c2",
   "metadata": {},
   "outputs": [],
   "source": [
    "start=int(time.time())\n",
    "bigstart=int(time.time())\n",
    "stop=start+5\n",
    "bigstop=bigstart+120\n",
    "secbytes=0\n",
    "sum=0\n",
    "myobs=[]\n",
    "myObsDict={}\n",
    "f=open(\"test2.txt\",\"a\")\n"
   ]
  },
  {
   "cell_type": "code",
   "execution_count": 64,
   "id": "cf2ee1ff",
   "metadata": {},
   "outputs": [
    {
     "name": "stdout",
     "output_type": "stream",
     "text": [
      "31\n"
     ]
    }
   ],
   "source": [
    "while stop-start > 0:\n",
    "        secbytes=ser.readline()\n",
    "        decbytes=secbytes.decode(\"utf-8\")\n",
    "        f.write(decbytes.rstrip())\n",
    "        #sum+=int(decbytes)\n",
    "        time.sleep(0.01)\n",
    "        start=int(time.time())"
   ]
  },
  {
   "cell_type": "code",
   "execution_count": null,
   "id": "1de45047",
   "metadata": {},
   "outputs": [],
   "source": [
    "while bigstop-bigstart > 0:\n",
    "    \n",
    "    while stop-start > 0:\n",
    "        secbytes=ser.readline()\n",
    "        decbytes=secbytes.decode(\"utf-8\")\n",
    "        print(\"D: \"+decbytes.rstrip())\n",
    "        f.write(decbytes.rstrip()+\"\\n\")\n",
    "        f.flush()\n",
    "        sum+=int(decbytes)\n",
    "        time.sleep(0.01)\n",
    "        start=int(time.time())\n",
    "    print(\"S: \"+str(sum))\n",
    "    f.write(\"S: \"+str(sum))\n",
    "    f.flush()\n",
    "    myobs.append(sum)\n",
    "    myObsDict[int(time.time())]=sum\n",
    "    bigstart=int(time.time())\n",
    "    start=int(time.time())\n",
    "    stop=start+5\n",
    "    sum=0\n",
    "print(\"Big end\")\n",
    "print(sum)\n",
    "      \n",
    "        "
   ]
  },
  {
   "cell_type": "code",
   "execution_count": null,
   "id": "3b4695fb",
   "metadata": {},
   "outputs": [],
   "source": [
    "[print(i) for i in myobs]"
   ]
  },
  {
   "cell_type": "code",
   "execution_count": 86,
   "id": "f24fd50f",
   "metadata": {},
   "outputs": [
    {
     "name": "stdout",
     "output_type": "stream",
     "text": [
      "1636575697:130\n",
      "1636575702:58428\n",
      "1636575707:57908\n",
      "1636575712:59983\n",
      "1636575717:58539\n",
      "1636575722:31212\n",
      "1636575727:7807\n",
      "1636575732:6010\n",
      "1636575737:6017\n",
      "1636575742:6024\n",
      "1636575747:5869\n",
      "1636575752:4378\n"
     ]
    },
    {
     "data": {
      "text/plain": [
       "{None}"
      ]
     },
     "execution_count": 86,
     "metadata": {},
     "output_type": "execute_result"
    }
   ],
   "source": [
    "{print(str(k)+\":\"+str(myObsDict[k])) for k in myObsDict.keys()}"
   ]
  },
  {
   "cell_type": "code",
   "execution_count": null,
   "id": "04f984d2",
   "metadata": {},
   "outputs": [],
   "source": []
  }
 ],
 "metadata": {
  "kernelspec": {
   "display_name": "Python 3",
   "language": "python",
   "name": "python3"
  },
  "language_info": {
   "codemirror_mode": {
    "name": "ipython",
    "version": 3
   },
   "file_extension": ".py",
   "mimetype": "text/x-python",
   "name": "python",
   "nbconvert_exporter": "python",
   "pygments_lexer": "ipython3",
   "version": "3.8.8"
  }
 },
 "nbformat": 4,
 "nbformat_minor": 5
}
