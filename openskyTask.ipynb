{
 "cells": [
  {
   "cell_type": "markdown",
   "metadata": {},
   "source": [
    "Gå til https://opensky-network.org/apidoc/ \n",
    "Find via api-dokumentationen ud af hvordan du laver en get-request med en liste af alle fly.\n",
    "Filtrer nu listen så du kan svare på følgende spørgsmål:\n",
    "Hvor mange SAS-fly er der i luften lige nu?"
   ]
  },
  {
   "cell_type": "markdown",
   "metadata": {},
   "source": [
    "step1: find urlen<br>\n",
    "step2: få en respons fra dit request<br>\n",
    "step3: hent data-strukturen ud fra respons.json() (hvis det virker)<br>\n",
    "step4: undersøg datastrukturen (tjek api-dokumentationen for de enkelte felter)<br>\n",
    "step5: filtrér data-sættet<br>"
   ]
  },
  {
   "cell_type": "code",
   "execution_count": null,
   "metadata": {},
   "outputs": [],
   "source": []
  }
 ],
 "metadata": {
  "kernelspec": {
   "display_name": "Python 3",
   "language": "python",
   "name": "python3"
  },
  "language_info": {
   "codemirror_mode": {
    "name": "ipython",
    "version": 3
   },
   "file_extension": ".py",
   "mimetype": "text/x-python",
   "name": "python",
   "nbconvert_exporter": "python",
   "pygments_lexer": "ipython3",
   "version": "3.7.6"
  }
 },
 "nbformat": 4,
 "nbformat_minor": 4
}
