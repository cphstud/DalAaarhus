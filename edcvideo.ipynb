{
 "cells": [
  {
   "cell_type": "code",
   "execution_count": null,
   "metadata": {},
   "outputs": [],
   "source": [
    "import bs4\n",
    "import requests\n",
    "import re"
   ]
  },
  {
   "cell_type": "code",
   "execution_count": 230,
   "metadata": {},
   "outputs": [],
   "source": [
    "url=\"https://www.edc.dk/sog/?ejd-typer=1&antal=1000&side=1#lstsort\"\n",
    "retVal=requests.get(url)"
   ]
  },
  {
   "cell_type": "code",
   "execution_count": null,
   "metadata": {},
   "outputs": [],
   "source": [
    "retVal.status_code"
   ]
  },
  {
   "cell_type": "code",
   "execution_count": 232,
   "metadata": {},
   "outputs": [],
   "source": [
    "htmlText=retVal.text"
   ]
  },
  {
   "cell_type": "code",
   "execution_count": 234,
   "metadata": {},
   "outputs": [],
   "source": [
    "soup=bs4.BeautifulSoup(htmlText)"
   ]
  },
  {
   "cell_type": "code",
   "execution_count": 235,
   "metadata": {},
   "outputs": [],
   "source": [
    "elements=soup.find_all(\"div\", class_=\"row propertyitem__body--view\")"
   ]
  },
  {
   "cell_type": "markdown",
   "metadata": {},
   "source": [
    "Investigate one element"
   ]
  },
  {
   "cell_type": "code",
   "execution_count": 225,
   "metadata": {},
   "outputs": [],
   "source": [
    "price=elements[0].find_all(\"div\", class_=\"propertyitem__price\")"
   ]
  },
  {
   "cell_type": "code",
   "execution_count": 227,
   "metadata": {},
   "outputs": [],
   "source": [
    "rPris=re.sub(\"[^0-9]\",\"\",price[0].text)"
   ]
  },
  {
   "cell_type": "code",
   "execution_count": 38,
   "metadata": {},
   "outputs": [],
   "source": [
    "tableInfo=elements[0].find_all(\"td\")"
   ]
  },
  {
   "cell_type": "code",
   "execution_count": 141,
   "metadata": {},
   "outputs": [],
   "source": [
    "retVal=elements[0].find_all(\"h2\", class_=\"propertyitem__address--listview\")"
   ]
  },
  {
   "cell_type": "code",
   "execution_count": 189,
   "metadata": {},
   "outputs": [],
   "source": [
    "addrItems=retVal[0].find_all(\"span\")"
   ]
  },
  {
   "cell_type": "code",
   "execution_count": 192,
   "metadata": {},
   "outputs": [],
   "source": [
    "street=addrItems[0].text"
   ]
  },
  {
   "cell_type": "code",
   "execution_count": 194,
   "metadata": {},
   "outputs": [],
   "source": [
    "azip=addrItems[1].text"
   ]
  },
  {
   "cell_type": "code",
   "execution_count": 200,
   "metadata": {},
   "outputs": [],
   "source": [
    "import pymongo"
   ]
  },
  {
   "cell_type": "code",
   "execution_count": 201,
   "metadata": {},
   "outputs": [],
   "source": [
    "client=pymongo.MongoClient(\"mongodb://localhost:27017\")"
   ]
  },
  {
   "cell_type": "code",
   "execution_count": 202,
   "metadata": {},
   "outputs": [],
   "source": [
    "db=client.homes"
   ]
  },
  {
   "cell_type": "code",
   "execution_count": null,
   "metadata": {},
   "outputs": [],
   "source": [
    "for element in elements:\n",
    "    dbDict={}\n",
    "    #extracting price\n",
    "    price=element.find_all(\"div\", class_=\"propertyitem__price\")\n",
    "    rPris=int(re.sub(\"[^0-9]\",\"\",price[0].text))\n",
    "    dbDict['pris']=rPris\n",
    "\n",
    "    #extracting tableinfo\n",
    "    tableInfo=element.find_all(\"td\")\n",
    "    if tableInfo[0].text.isnumeric():\n",
    "        \n",
    "        #get location\n",
    "        retVal=element.find_all(\"h2\", class_=\"propertyitem__address--listview\")\n",
    "        addrItems=retVal[0].find_all(\"span\")\n",
    "        street=addrItems[0].text\n",
    "        mzip=addrItems[1].text\n",
    "        dbDict['address']={\"street\":street,\"zip\":mzip}\n",
    "        \n",
    "        tempSid=element.find(\"meta\")\n",
    "        ttempSid=tempSid['content']\n",
    "        retVal=re.search(\"=([0-9]+)$\",ttempSid)\n",
    "        sid=retVal.groups()[0]\n",
    "        \n",
    "        dbDict['_id']=sid\n",
    "        dbDict['kvm']=int(tableInfo[0].text)\n",
    "        dbDict['grund']=int(re.sub(\"[^0-9]\",\"\",tableInfo[1].text))\n",
    "        dbDict['rum']=int(tableInfo[2].text)\n",
    "        dbDict['buildYear']=int(tableInfo[3].text)\n",
    "        dbDict['liggetid']=int(re.sub(\"[^0-9]\",\"\",tableInfo[4].text))\n",
    "        dbDict['kvmpris']=int(re.sub(\"[^0-9]\",\"\",tableInfo[6].text))\n",
    "        try:\n",
    "            dbDict['ejerudg']=int(re.sub(\"[^0-9]\",\"\",tableInfo[7].text))\n",
    "        except:\n",
    "            print(\"Ups\")\n",
    "            dbDict['ejerudg']=\"Not found\"\n",
    "        print(dbDict)\n",
    "        #re.sub(\"[^0-9]\",\"\",price[0].text)\n",
    "        try:\n",
    "            insret=db.homes.insert_one(dbDict)\n",
    "            print(insret.inserted_id)\n",
    "        except:\n",
    "            print(\"doublet .. continue\")\n",
    "    else:\n",
    "        print(\"No sqm. Skipping\")"
   ]
  },
  {
   "cell_type": "code",
   "execution_count": null,
   "metadata": {},
   "outputs": [],
   "source": []
  },
  {
   "cell_type": "code",
   "execution_count": null,
   "metadata": {},
   "outputs": [],
   "source": []
  }
 ],
 "metadata": {
  "kernelspec": {
   "display_name": "Python 3",
   "language": "python",
   "name": "python3"
  },
  "language_info": {
   "codemirror_mode": {
    "name": "ipython",
    "version": 3
   },
   "file_extension": ".py",
   "mimetype": "text/x-python",
   "name": "python",
   "nbconvert_exporter": "python",
   "pygments_lexer": "ipython3",
   "version": "3.7.6"
  }
 },
 "nbformat": 4,
 "nbformat_minor": 4
}
